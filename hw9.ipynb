{
 "cells": [
  {
   "cell_type": "code",
   "execution_count": 1,
   "metadata": {
    "collapsed": false
   },
   "outputs": [],
   "source": [
    "import numpy as np\n",
    "import Backward2 as p1\n",
    "import MCint_class as p2"
   ]
  },
  {
   "cell_type": "markdown",
   "metadata": {},
   "source": [
    "# Homework 9\n",
    "\n",
    "### Taylor Patti\n",
    "### 4/25/16"
   ]
  },
  {
   "cell_type": "markdown",
   "metadata": {},
   "source": [
    "### Backward2\n",
    "\n",
    "This extends the differentiation superclass to include a second order backwards derivative. A function which compared the first and second order backwards derivatives was then ran for h of size 2**-k where k was every integer between 0 and 14. As the table shows, although both approximations converged to the correct value early on in the h sampling, the second order approximation did so much more rapidly."
   ]
  },
  {
   "cell_type": "code",
   "execution_count": 2,
   "metadata": {
    "collapsed": false
   },
   "outputs": [
    {
     "name": "stdout",
     "output_type": "stream",
     "text": [
      "\n",
      " Negative Power of 2                First                Error               Second                Error\n",
      "\n",
      "                   0               1.7183               0.7183               0.2420              -0.7580\n",
      "                   1               1.2974               0.2974               0.8766              -0.1234\n",
      "                   2               1.1361               0.1361               0.9748              -0.0252\n",
      "                   3               1.0652               0.0652               0.9943              -0.0057\n",
      "                   4               1.0319               0.0319               0.9986              -0.0014\n",
      "                   5               1.0158               0.0158               0.9997              -0.0003\n",
      "                   6               1.0079               0.0079               0.9999              -0.0001\n",
      "                   7               1.0039               0.0039               1.0000              -0.0000\n",
      "                   8               1.0020               0.0020               1.0000              -0.0000\n",
      "                   9               1.0010               0.0010               1.0000              -0.0000\n",
      "                  10               1.0005               0.0005               1.0000              -0.0000\n",
      "                  11               1.0002               0.0002               1.0000              -0.0000\n",
      "                  12               1.0001               0.0001               1.0000              -0.0000\n",
      "                  13               1.0001               0.0001               1.0000              -0.0000\n",
      "                  14               1.0000               0.0000               1.0000              -0.0000\n"
     ]
    }
   ],
   "source": [
    "p1.compare_Methods()"
   ]
  },
  {
   "cell_type": "markdown",
   "metadata": {},
   "source": [
    "### MCint_class\n",
    "\n",
    "This class extension uses the Integrator superclass as a basis for utilizing a Monte Carlo random method to integrate a function. As the methods of the Integrator superclass were already written, all that needed to be done was to properly overwrite the constructor method so that it returned a sample points and weights vectors for the Monte Carlo integration method. Here we display the great accuracy that randomness can produce with a simeple integration of the sin function from 0 to pi, which yields exceedingly close to the standard result of 2."
   ]
  },
  {
   "cell_type": "code",
   "execution_count": 3,
   "metadata": {
    "collapsed": false
   },
   "outputs": [
    {
     "data": {
      "text/plain": [
       "2.0002825376013558"
      ]
     },
     "execution_count": 3,
     "metadata": {},
     "output_type": "execute_result"
    }
   ],
   "source": [
    "integrator = p2.MCint_vec(0, np.pi, 1000000)\n",
    "integrator.integrate(np.sin)"
   ]
  }
 ],
 "metadata": {
  "kernelspec": {
   "display_name": "Python 2 (SageMath)",
   "language": "python",
   "name": "python2"
  },
  "language_info": {
   "codemirror_mode": {
    "name": "ipython",
    "version": 2
   },
   "file_extension": ".py",
   "mimetype": "text/x-python",
   "name": "python",
   "nbconvert_exporter": "python",
   "pygments_lexer": "ipython2",
   "version": "2.7.10"
  }
 },
 "nbformat": 4,
 "nbformat_minor": 0
}
